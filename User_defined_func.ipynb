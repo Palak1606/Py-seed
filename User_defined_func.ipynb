{
 "cells": [
  {
   "cell_type": "code",
   "execution_count": 21,
   "id": "76f7c6f6-56ae-427c-af39-af8998ba5df7",
   "metadata": {},
   "outputs": [
    {
     "name": "stdin",
     "output_type": "stream",
     "text": [
      "Enter the year:  1900\n"
     ]
    },
    {
     "name": "stdout",
     "output_type": "stream",
     "text": [
      "Not a leap year\n"
     ]
    }
   ],
   "source": [
    "def year_is_leap():\n",
    "    year = int(input(\"Enter the year: \"))\n",
    "    if (year%4==0 and (year%100!=0 or year%400==0)):\n",
    "        print(f\"The year {year} is a leap year.\")\n",
    "    else :\n",
    "        print(\"Not a leap year\")\n",
    "year_is_leap()"
   ]
  },
  {
   "cell_type": "code",
   "execution_count": 39,
   "id": "e3fd29d9-2202-4fa6-8901-e74dfed5c7fc",
   "metadata": {},
   "outputs": [
    {
     "name": "stdin",
     "output_type": "stream",
     "text": [
      "Enter numbers separated by spaces:  1 1 2 3 4 5 6 7 8 8\n"
     ]
    },
    {
     "name": "stdout",
     "output_type": "stream",
     "text": [
      "[2, 4, 6, 8, 8]\n"
     ]
    }
   ],
   "source": [
    "def ExtractEven(lst):\n",
    "    return [num for num in lst if num % 2 == 0]\n",
    "lst = list(map(int, input(\"Enter numbers separated by spaces: \").split()))\n",
    "print(ExtractEven(lst))"
   ]
  },
  {
   "cell_type": "code",
   "execution_count": 53,
   "id": "9065e120-8528-4c39-8b87-a058b9e99c45",
   "metadata": {},
   "outputs": [
    {
     "name": "stdin",
     "output_type": "stream",
     "text": [
      "Enter the number:  3\n",
      "Enter the second number:  2\n"
     ]
    },
    {
     "name": "stdout",
     "output_type": "stream",
     "text": [
      "(5, 1, 6, 1.5)\n"
     ]
    }
   ],
   "source": [
    "def calculate(a,b):\n",
    "    add = a + b\n",
    "    sub = a - b\n",
    "    mul = a * b\n",
    "    div = a / b if b!=0 else \"Division not allowed\"\n",
    "    return add , sub , mul , div\n",
    "num1 = int(input(\"Enter the number: \"))\n",
    "num2 = int(input(\"Enter the second number: \"))\n",
    "result = calculate(num1 , num2)\n",
    "print(result)\n",
    "                 "
   ]
  },
  {
   "cell_type": "code",
   "execution_count": 57,
   "id": "8a1fc517-c4ed-43ac-8dd0-ff29975fcd60",
   "metadata": {},
   "outputs": [],
   "source": [
    "import math"
   ]
  },
  {
   "cell_type": "code",
   "execution_count": 59,
   "id": "efc879a8-ed7e-46fb-a5a3-352b53c424dc",
   "metadata": {},
   "outputs": [
    {
     "name": "stdin",
     "output_type": "stream",
     "text": [
      "Enter radius of circle:  30\n"
     ]
    },
    {
     "name": "stdout",
     "output_type": "stream",
     "text": [
      "Area of Circle: 2827.4333882308138\n"
     ]
    },
    {
     "name": "stdin",
     "output_type": "stream",
     "text": [
      "Enter base of triangle:  5\n",
      "Enter height of triangle:  2\n"
     ]
    },
    {
     "name": "stdout",
     "output_type": "stream",
     "text": [
      "Area of Triangle: 5.0\n"
     ]
    }
   ],
   "source": [
    "def find_area(a, b=None):\n",
    "    if b is None:  \n",
    "        return math.pi * a * a  \n",
    "    else:\n",
    "        return 0.5 * a * b  \n",
    "\n",
    "radius = float(input(\"Enter radius of circle: \"))\n",
    "print(\"Area of Circle:\", find_area(radius))\n",
    "\n",
    "base = float(input(\"Enter base of triangle: \"))\n",
    "height = float(input(\"Enter height of triangle: \"))\n",
    "print(\"Area of Triangle:\", find_area(base, height))"
   ]
  },
  {
   "cell_type": "code",
   "execution_count": 63,
   "id": "ee88b7c0-0e4c-4851-b99d-96b603126081",
   "metadata": {},
   "outputs": [
    {
     "name": "stdin",
     "output_type": "stream",
     "text": [
      "Enter numbers separated by spaces:  5 6 8 70 35\n"
     ]
    },
    {
     "name": "stdout",
     "output_type": "stream",
     "text": [
      "Largest number: 70\n"
     ]
    }
   ],
   "source": [
    "def find_largest(*args):\n",
    "    if not args:  \n",
    "        return \"No numbers provided!\"\n",
    "    return max(args)  \n",
    "numbers = list(map(int, input(\"Enter numbers separated by spaces: \").split()))\n",
    "print(\"Largest number:\", find_largest(*numbers))\n"
   ]
  },
  {
   "cell_type": "code",
   "execution_count": 65,
   "id": "2654fc56-4082-4d84-ab95-82476eb5c46c",
   "metadata": {},
   "outputs": [
    {
     "name": "stdout",
     "output_type": "stream",
     "text": [
      "Student Information:\n",
      "name: John\n",
      "age: 20\n",
      "course: Computer Science\n",
      "grade: A\n"
     ]
    }
   ],
   "source": [
    "def student_info(**kwargs):\n",
    "    print(\"Student Information:\")\n",
    "    for key, value in kwargs.items():\n",
    "        print(f\"{key}: {value}\")\n",
    "student_info(name=\"John\", age=20, course=\"Computer Science\", grade=\"A\")\n"
   ]
  },
  {
   "cell_type": "code",
   "execution_count": 69,
   "id": "dbd3fdd5-604e-47b9-bced-44fa8dc74e23",
   "metadata": {},
   "outputs": [
    {
     "name": "stdin",
     "output_type": "stream",
     "text": [
      "Enter the number of terms:  6\n"
     ]
    },
    {
     "name": "stdout",
     "output_type": "stream",
     "text": [
      "Fibonacci Series: [0, 1, 1, 2, 3, 5]\n"
     ]
    }
   ],
   "source": [
    "def fibonacci(n):\n",
    "    if n <= 0:\n",
    "        return \"Invalid input! Enter a positive integer.\"\n",
    "    elif n == 1:\n",
    "        return [0]\n",
    "    elif n == 2:\n",
    "        return [0, 1]\n",
    "    else:\n",
    "        fib_series = fibonacci(n - 1)  \n",
    "        fib_series.append(fib_series[-1] + fib_series[-2]) \n",
    "        return fib_series\n",
    "n = int(input(\"Enter the number of terms: \"))\n",
    "print(\"Fibonacci Series:\", fibonacci(n))\n"
   ]
  },
  {
   "cell_type": "code",
   "execution_count": null,
   "id": "179e0a62-7109-4311-ac25-3d4186589626",
   "metadata": {},
   "outputs": [],
   "source": []
  }
 ],
 "metadata": {
  "kernelspec": {
   "display_name": "Python [conda env:base] *",
   "language": "python",
   "name": "conda-base-py"
  },
  "language_info": {
   "codemirror_mode": {
    "name": "ipython",
    "version": 3
   },
   "file_extension": ".py",
   "mimetype": "text/x-python",
   "name": "python",
   "nbconvert_exporter": "python",
   "pygments_lexer": "ipython3",
   "version": "3.12.7"
  }
 },
 "nbformat": 4,
 "nbformat_minor": 5
}
