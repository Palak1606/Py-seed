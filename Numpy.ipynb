{
 "cells": [
  {
   "cell_type": "code",
   "execution_count": 3,
   "id": "785e1d0f-de8a-4628-a4ee-6d0da53a92f6",
   "metadata": {},
   "outputs": [
    {
     "name": "stdout",
     "output_type": "stream",
     "text": [
      "Requirement already satisfied: numpy in /opt/anaconda3/lib/python3.12/site-packages (1.26.4)\n"
     ]
    }
   ],
   "source": [
    "!pip install numpy"
   ]
  },
  {
   "cell_type": "code",
   "execution_count": 5,
   "id": "768994bb-88d2-441f-b6bb-3156feb6910a",
   "metadata": {},
   "outputs": [],
   "source": [
    "import numpy as np"
   ]
  },
  {
   "cell_type": "code",
   "execution_count": 7,
   "id": "e4aa377d-a01b-41da-9211-dc4a33e065e1",
   "metadata": {},
   "outputs": [],
   "source": [
    "arr = np.array([1,2,3,4,5])"
   ]
  },
  {
   "cell_type": "code",
   "execution_count": 9,
   "id": "a36125e7-e9a1-452e-8b2e-a5fc449b4e54",
   "metadata": {},
   "outputs": [
    {
     "data": {
      "text/plain": [
       "array([1, 2, 3, 4, 5])"
      ]
     },
     "execution_count": 9,
     "metadata": {},
     "output_type": "execute_result"
    }
   ],
   "source": [
    "arr"
   ]
  },
  {
   "cell_type": "code",
   "execution_count": 11,
   "id": "8e9a4576-7879-4136-88fb-5e4ad7fbe6c9",
   "metadata": {},
   "outputs": [],
   "source": [
    "x1 = arr.view()"
   ]
  },
  {
   "cell_type": "code",
   "execution_count": 13,
   "id": "4068d0b0-2ab9-4f08-8a4a-8fcda4f16f6b",
   "metadata": {},
   "outputs": [
    {
     "data": {
      "text/plain": [
       "array([1, 2, 3, 4, 5])"
      ]
     },
     "execution_count": 13,
     "metadata": {},
     "output_type": "execute_result"
    }
   ],
   "source": [
    "x1"
   ]
  },
  {
   "cell_type": "code",
   "execution_count": 15,
   "id": "c6a71de3-f5ee-41d6-b662-1ddb6deb98f5",
   "metadata": {},
   "outputs": [],
   "source": [
    "x1 = arr.copy()"
   ]
  },
  {
   "cell_type": "code",
   "execution_count": 17,
   "id": "95b8efd5-38b5-4fe2-aaeb-4fa25b38bc69",
   "metadata": {},
   "outputs": [
    {
     "data": {
      "text/plain": [
       "array([1, 2, 3, 4, 5])"
      ]
     },
     "execution_count": 17,
     "metadata": {},
     "output_type": "execute_result"
    }
   ],
   "source": [
    "x1"
   ]
  },
  {
   "cell_type": "code",
   "execution_count": 19,
   "id": "f5de1909-2744-4ce7-ab95-ac1181cbcbc3",
   "metadata": {},
   "outputs": [],
   "source": [
    "arr1 = np.array([6,7,8,9,10])"
   ]
  },
  {
   "cell_type": "code",
   "execution_count": 21,
   "id": "1c798585-d654-493d-be5e-20a42a57046c",
   "metadata": {},
   "outputs": [
    {
     "data": {
      "text/plain": [
       "array([ 6,  7,  8,  9, 10])"
      ]
     },
     "execution_count": 21,
     "metadata": {},
     "output_type": "execute_result"
    }
   ],
   "source": [
    "arr1"
   ]
  },
  {
   "cell_type": "code",
   "execution_count": 25,
   "id": "8597bf45-5078-4263-9160-86e9a3f58ae1",
   "metadata": {},
   "outputs": [],
   "source": [
    "newarr = np.concatenate((arr,arr1))"
   ]
  },
  {
   "cell_type": "code",
   "execution_count": 27,
   "id": "b2032808-7dec-4f5d-b0ee-48f444e3eecb",
   "metadata": {},
   "outputs": [
    {
     "data": {
      "text/plain": [
       "array([ 1,  2,  3,  4,  5,  6,  7,  8,  9, 10])"
      ]
     },
     "execution_count": 27,
     "metadata": {},
     "output_type": "execute_result"
    }
   ],
   "source": [
    "newarr"
   ]
  },
  {
   "cell_type": "code",
   "execution_count": 39,
   "id": "3d706506-b978-4619-a5ee-3a71a5c2afcc",
   "metadata": {},
   "outputs": [],
   "source": [
    "newarr1 = np.dstack((arr,arr1))"
   ]
  },
  {
   "cell_type": "code",
   "execution_count": 41,
   "id": "32b12f91-ad09-44f1-8354-6f362d72b85c",
   "metadata": {},
   "outputs": [
    {
     "data": {
      "text/plain": [
       "array([[[ 1,  6],\n",
       "        [ 2,  7],\n",
       "        [ 3,  8],\n",
       "        [ 4,  9],\n",
       "        [ 5, 10]]])"
      ]
     },
     "execution_count": 41,
     "metadata": {},
     "output_type": "execute_result"
    }
   ],
   "source": [
    "newarr1"
   ]
  },
  {
   "cell_type": "code",
   "execution_count": 43,
   "id": "3a2d4cc9-0b03-44ef-9085-1c9971cd6a62",
   "metadata": {},
   "outputs": [],
   "source": [
    "newarr1 = np.vstack((arr,arr1))"
   ]
  },
  {
   "cell_type": "code",
   "execution_count": 45,
   "id": "42550437-1f77-4e41-80d7-3d3e05de19ed",
   "metadata": {},
   "outputs": [
    {
     "data": {
      "text/plain": [
       "array([[ 1,  2,  3,  4,  5],\n",
       "       [ 6,  7,  8,  9, 10]])"
      ]
     },
     "execution_count": 45,
     "metadata": {},
     "output_type": "execute_result"
    }
   ],
   "source": [
    "newarr1"
   ]
  },
  {
   "cell_type": "code",
   "execution_count": 53,
   "id": "35ec0f4d-2130-4bdc-b808-33ef4780313a",
   "metadata": {},
   "outputs": [],
   "source": [
    "newarr1 = np.where((newarr==3))"
   ]
  },
  {
   "cell_type": "code",
   "execution_count": 55,
   "id": "1e06081b-664a-47ce-b4fd-4ead253fc679",
   "metadata": {},
   "outputs": [
    {
     "data": {
      "text/plain": [
       "(array([2]),)"
      ]
     },
     "execution_count": 55,
     "metadata": {},
     "output_type": "execute_result"
    }
   ],
   "source": [
    "newarr1"
   ]
  },
  {
   "cell_type": "code",
   "execution_count": 5,
   "id": "549139eb-84df-4691-9760-144a4b716811",
   "metadata": {},
   "outputs": [],
   "source": [
    "import random"
   ]
  },
  {
   "cell_type": "code",
   "execution_count": 39,
   "id": "9420e62e-bc8d-4afe-8a1b-afd079af0e55",
   "metadata": {},
   "outputs": [],
   "source": [
    "x = random.randint(1,100)"
   ]
  },
  {
   "cell_type": "code",
   "execution_count": 41,
   "id": "ebb080f5-52b9-40b7-bae5-bedeec6b773d",
   "metadata": {},
   "outputs": [
    {
     "data": {
      "text/plain": [
       "67"
      ]
     },
     "execution_count": 41,
     "metadata": {},
     "output_type": "execute_result"
    }
   ],
   "source": [
    "x"
   ]
  },
  {
   "cell_type": "code",
   "execution_count": 45,
   "id": "608751ce-c252-4ec8-b7c3-d48fe5f26b62",
   "metadata": {},
   "outputs": [],
   "source": [
    "import numpy as np"
   ]
  },
  {
   "cell_type": "code",
   "execution_count": 49,
   "id": "9ed1834e-4fcc-4e09-a93b-6514c2572853",
   "metadata": {},
   "outputs": [],
   "source": [
    "x = np.random.randint(1,100,size=5)"
   ]
  },
  {
   "cell_type": "code",
   "execution_count": 51,
   "id": "624b4040-fbb9-4ace-9112-dcd5d8e41496",
   "metadata": {},
   "outputs": [
    {
     "data": {
      "text/plain": [
       "array([14, 25, 40, 77, 61])"
      ]
     },
     "execution_count": 51,
     "metadata": {},
     "output_type": "execute_result"
    }
   ],
   "source": [
    "x"
   ]
  },
  {
   "cell_type": "code",
   "execution_count": 57,
   "id": "4d3aa0b1-5307-4133-92e1-dcff2f4bd706",
   "metadata": {},
   "outputs": [],
   "source": [
    "x = np.random.randint(2,100,size=(3,5))"
   ]
  },
  {
   "cell_type": "code",
   "execution_count": 59,
   "id": "efc77403-e1b3-4760-90bc-4611d5d3634d",
   "metadata": {},
   "outputs": [
    {
     "data": {
      "text/plain": [
       "array([[ 6, 59, 62, 50, 75],\n",
       "       [91,  7, 44, 44, 71],\n",
       "       [38,  6, 16, 83, 34]])"
      ]
     },
     "execution_count": 59,
     "metadata": {},
     "output_type": "execute_result"
    }
   ],
   "source": [
    "x"
   ]
  },
  {
   "cell_type": "code",
   "execution_count": 69,
   "id": "9ea98ba7-34db-4a38-8271-cbe5e11a2636",
   "metadata": {},
   "outputs": [
    {
     "name": "stdin",
     "output_type": "stream",
     "text": [
      "Enter numbers separated by spaces:  5 6 7 8 9 10 11\n"
     ]
    },
    {
     "name": "stdout",
     "output_type": "stream",
     "text": [
      "Array =  [ 5  6  7  8  9 10 11]\n"
     ]
    }
   ],
   "source": [
    "uinput = input(\"Enter numbers separated by spaces: \")\n",
    "arr = np.array(list(map(int, uinput.split())))\n",
    "print('Array = ',arr)"
   ]
  },
  {
   "cell_type": "code",
   "execution_count": null,
   "id": "0ac93ba1-8540-4d6a-b164-b4729b74e261",
   "metadata": {},
   "outputs": [],
   "source": []
  }
 ],
 "metadata": {
  "kernelspec": {
   "display_name": "Python [conda env:base] *",
   "language": "python",
   "name": "conda-base-py"
  },
  "language_info": {
   "codemirror_mode": {
    "name": "ipython",
    "version": 3
   },
   "file_extension": ".py",
   "mimetype": "text/x-python",
   "name": "python",
   "nbconvert_exporter": "python",
   "pygments_lexer": "ipython3",
   "version": "3.12.7"
  }
 },
 "nbformat": 4,
 "nbformat_minor": 5
}
