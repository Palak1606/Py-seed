{
 "cells": [
  {
   "cell_type": "code",
   "execution_count": 1,
   "id": "edf2b18b-405c-476e-b67d-d03f5ea48e63",
   "metadata": {},
   "outputs": [],
   "source": [
    "import pandas as pd"
   ]
  },
  {
   "cell_type": "code",
   "execution_count": 5,
   "id": "dcdfb189-6f3d-46f7-8b11-4ef2ecb72be9",
   "metadata": {},
   "outputs": [
    {
     "name": "stdout",
     "output_type": "stream",
     "text": [
      "0    2\n",
      "1    3\n",
      "2    4\n",
      "3    5\n",
      "4    6\n",
      "5    7\n",
      "dtype: int64\n"
     ]
    }
   ],
   "source": [
    "data = [2,3,4,5,6,7]\n",
    "series = pd.Series(data)\n",
    "print(series)"
   ]
  },
  {
   "cell_type": "code",
   "execution_count": 15,
   "id": "11d074ff-ba33-4e4e-9ac8-ead025bb0670",
   "metadata": {},
   "outputs": [
    {
     "name": "stdout",
     "output_type": "stream",
     "text": [
      "         Place  Age\n",
      "0  Navi mumbai   18\n",
      "1     Kharghar   19\n",
      "2       Mumbai   21\n",
      "3        Delhi   26\n"
     ]
    }
   ],
   "source": [
    "d = {\n",
    "    'Place': [ 'Navi mumbai' ,'Kharghar','Mumbai','Delhi'],\n",
    "    'Age' : [18,19,21,26]\n",
    "}\n",
    "df = pd.DataFrame(d)\n",
    "print(df)"
   ]
  },
  {
   "cell_type": "code",
   "execution_count": 47,
   "id": "688dc5db-5b4f-47ae-a903-ab935295e0ea",
   "metadata": {},
   "outputs": [
    {
     "name": "stdout",
     "output_type": "stream",
     "text": [
      "Place    object\n",
      "Age       int64\n",
      "dtype: object\n"
     ]
    }
   ],
   "source": [
    "df = pd.DataFrame(d)\n",
    "print(df.dtypes)"
   ]
  },
  {
   "cell_type": "code",
   "execution_count": 49,
   "id": "87e4640b-f917-4725-a562-7fc3a9c02de9",
   "metadata": {},
   "outputs": [
    {
     "name": "stdout",
     "output_type": "stream",
     "text": [
      "             Age\n",
      "count   4.000000\n",
      "mean   21.000000\n",
      "std     3.559026\n",
      "min    18.000000\n",
      "25%    18.750000\n",
      "50%    20.000000\n",
      "75%    22.250000\n",
      "max    26.000000\n"
     ]
    }
   ],
   "source": [
    "print(df.describe())"
   ]
  },
  {
   "cell_type": "code",
   "execution_count": 51,
   "id": "2a0f4c8d-1c9a-4a70-b168-f346925e0f6b",
   "metadata": {},
   "outputs": [
    {
     "name": "stdout",
     "output_type": "stream",
     "text": [
      "              Place        Age\n",
      "count             4   4.000000\n",
      "unique            4        NaN\n",
      "top     Navi mumbai        NaN\n",
      "freq              1        NaN\n",
      "mean            NaN  21.000000\n",
      "std             NaN   3.559026\n",
      "min             NaN  18.000000\n",
      "25%             NaN  18.750000\n",
      "50%             NaN  20.000000\n",
      "75%             NaN  22.250000\n",
      "max             NaN  26.000000\n"
     ]
    }
   ],
   "source": [
    "print(df.describe(include='all'))"
   ]
  },
  {
   "cell_type": "code",
   "execution_count": 53,
   "id": "3692d30d-d8d3-4e91-a7b8-e3d8cb868d76",
   "metadata": {},
   "outputs": [
    {
     "name": "stdout",
     "output_type": "stream",
     "text": [
      "<class 'pandas.core.frame.DataFrame'>\n",
      "RangeIndex: 4 entries, 0 to 3\n",
      "Data columns (total 2 columns):\n",
      " #   Column  Non-Null Count  Dtype \n",
      "---  ------  --------------  ----- \n",
      " 0   Place   4 non-null      object\n",
      " 1   Age     4 non-null      int64 \n",
      "dtypes: int64(1), object(1)\n",
      "memory usage: 196.0+ bytes\n",
      "None\n"
     ]
    }
   ],
   "source": [
    "print(df.info())"
   ]
  },
  {
   "cell_type": "code",
   "execution_count": 57,
   "id": "11ef1440-3a2b-4f88-bf3c-81d5f5331aec",
   "metadata": {},
   "outputs": [
    {
     "name": "stdout",
     "output_type": "stream",
     "text": [
      "DataFrame exported to Excel successfully\n"
     ]
    }
   ],
   "source": [
    "df.to_excel(\"processed_data.xlsx\", index=False)\n",
    "print(\"DataFrame exported to Excel successfully\")"
   ]
  },
  {
   "cell_type": "code",
   "execution_count": 21,
   "id": "56934b16-f55c-47cc-804d-f492774483db",
   "metadata": {},
   "outputs": [
    {
     "name": "stdout",
     "output_type": "stream",
     "text": [
      "       s1 s2 s3\n",
      "0  Python  9  7\n",
      "1      ML  8  8\n",
      "2     NLP  7  9\n",
      "3      DL  9  9\n"
     ]
    }
   ],
   "source": [
    "s = {\n",
    "     's1': ['Python','ML','NLP','DL'],\n",
    "    's2': ['9','8','7','9'],\n",
    "    's3': ['7','8','9','9']\n",
    "}\n",
    "df = pd.DataFrame(s)\n",
    "print(df)"
   ]
  },
  {
   "cell_type": "code",
   "execution_count": 43,
   "id": "116d2970-06bf-4e30-b7e4-fd280a06734a",
   "metadata": {},
   "outputs": [
    {
     "name": "stdout",
     "output_type": "stream",
     "text": [
      "       s1 s2 s3\n",
      "0  Python  9  7\n",
      "1      ML  8  8\n",
      "2     NLP  7  9\n"
     ]
    }
   ],
   "source": [
    "n = 3\n",
    "print(df.head(n))"
   ]
  },
  {
   "cell_type": "code",
   "execution_count": 45,
   "id": "ff426fbb-a16e-43c0-9a2d-582ffcf99099",
   "metadata": {},
   "outputs": [
    {
     "name": "stdout",
     "output_type": "stream",
     "text": [
      "   s1 s2 s3\n",
      "3  DL  9  9\n"
     ]
    }
   ],
   "source": [
    "m = 1\n",
    "print(df.tail(m))"
   ]
  },
  {
   "cell_type": "code",
   "execution_count": 29,
   "id": "f4637b8c-b8ee-4aad-b353-b8789c1c9019",
   "metadata": {},
   "outputs": [
    {
     "name": "stdout",
     "output_type": "stream",
     "text": [
      "   Table 1 Unnamed: 1 Unnamed: 2 Unnamed: 3\n",
      "0      NaN        NaN        NaN        NaN\n",
      "1      NaN       Name        Age      Place\n",
      "2      NaN      Rohan         16  Australia\n",
      "3      NaN        Sam         17  Melbourne\n",
      "4      NaN       Tiya         18   New York\n"
     ]
    }
   ],
   "source": [
    "fd = pd.read_excel('new.xlsx')\n",
    "print(fd.head())"
   ]
  },
  {
   "cell_type": "code",
   "execution_count": 35,
   "id": "06131ba3-863e-43c0-9ab8-9f836fbae862",
   "metadata": {},
   "outputs": [
    {
     "name": "stdout",
     "output_type": "stream",
     "text": [
      "                                           Table 1\n",
      "NaN NaN    NaN NaN         NaN        NaN      NaN\n",
      "    Name   Age Place       Fav        NaN      NaN\n",
      "    Rohan  16  Australia   Books      NaN      NaN\n",
      "    Sam    17  Melbourne   Football   NaN      NaN\n",
      "    Tiya   18  New York    Music      NaN      NaN\n",
      "    Urmila 19  Los Angeles Chocolates NaN      NaN\n",
      "    Vedant 20  Singapore   -          NaN      NaN\n"
     ]
    }
   ],
   "source": [
    "fd = pd.read_csv('new.csv')\n",
    "print(fd)"
   ]
  },
  {
   "cell_type": "code",
   "execution_count": null,
   "id": "ce52d1ca-a716-42be-a186-49e1e77e0bf9",
   "metadata": {},
   "outputs": [],
   "source": []
  }
 ],
 "metadata": {
  "kernelspec": {
   "display_name": "Python [conda env:base] *",
   "language": "python",
   "name": "conda-base-py"
  },
  "language_info": {
   "codemirror_mode": {
    "name": "ipython",
    "version": 3
   },
   "file_extension": ".py",
   "mimetype": "text/x-python",
   "name": "python",
   "nbconvert_exporter": "python",
   "pygments_lexer": "ipython3",
   "version": "3.12.7"
  }
 },
 "nbformat": 4,
 "nbformat_minor": 5
}
